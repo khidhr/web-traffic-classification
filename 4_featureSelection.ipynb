{
 "cells": [
  {
   "cell_type": "code",
   "execution_count": 44,
   "metadata": {},
   "outputs": [],
   "source": [
    "import pandas as pd"
   ]
  },
  {
   "cell_type": "code",
   "execution_count": 45,
   "metadata": {},
   "outputs": [],
   "source": [
    "df = pd.read_csv(\"balancedDarknet.csv\")"
   ]
  },
  {
   "cell_type": "code",
   "execution_count": 46,
   "metadata": {},
   "outputs": [
    {
     "data": {
      "text/plain": [
       "(213317, 29)"
      ]
     },
     "execution_count": 46,
     "metadata": {},
     "output_type": "execute_result"
    }
   ],
   "source": [
    "df.shape"
   ]
  },
  {
   "cell_type": "code",
   "execution_count": 47,
   "metadata": {},
   "outputs": [
    {
     "data": {
      "text/plain": [
       "['Src IP',\n",
       " 'Dst IP',\n",
       " 'Dst Port',\n",
       " 'Protocol',\n",
       " 'Fwd Packet Length Min',\n",
       " 'Bwd Packet Length Min',\n",
       " 'Bwd Packet Length Mean',\n",
       " 'Flow IAT Max',\n",
       " 'Fwd IAT Std',\n",
       " 'Bwd IAT Std',\n",
       " 'Bwd IAT Max',\n",
       " 'Bwd Packets/s',\n",
       " 'Packet Length Min',\n",
       " 'Packet Length Mean',\n",
       " 'FIN Flag Count',\n",
       " 'SYN Flag Count',\n",
       " 'PSH Flag Count',\n",
       " 'Average Packet Size',\n",
       " 'Bwd Segment Size Avg',\n",
       " 'Subflow Bwd Bytes',\n",
       " 'Bwd Init Win Bytes',\n",
       " 'Fwd Act Data Pkts',\n",
       " 'Fwd Seg Size Min',\n",
       " 'Idle Mean',\n",
       " 'Idle Std',\n",
       " 'Idle Max',\n",
       " 'Idle Min',\n",
       " 'application type',\n",
       " 'traffic nature']"
      ]
     },
     "execution_count": 47,
     "metadata": {},
     "output_type": "execute_result"
    }
   ],
   "source": [
    "df.columns.to_list()"
   ]
  },
  {
   "cell_type": "code",
   "execution_count": 48,
   "metadata": {},
   "outputs": [],
   "source": [
    "X = df.drop(\"traffic nature\",axis=1)\n",
    "y = df.loc[:,[\"traffic nature\"]]"
   ]
  },
  {
   "attachments": {},
   "cell_type": "markdown",
   "metadata": {},
   "source": [
    "# recursif feature eliminator:"
   ]
  },
  {
   "cell_type": "code",
   "execution_count": 49,
   "metadata": {},
   "outputs": [
    {
     "name": "stderr",
     "output_type": "stream",
     "text": [
      "/Users/halabkhidhr/opt/anaconda3/envs/tensorflow/lib/python3.9/site-packages/sklearn/feature_selection/_rfe.py:296: DataConversionWarning: A column-vector y was passed when a 1d array was expected. Please change the shape of y to (n_samples,), for example using ravel().\n",
      "  estimator.fit(X[:, features], y, **fit_params)\n",
      "/Users/halabkhidhr/opt/anaconda3/envs/tensorflow/lib/python3.9/site-packages/sklearn/feature_selection/_rfe.py:296: DataConversionWarning: A column-vector y was passed when a 1d array was expected. Please change the shape of y to (n_samples,), for example using ravel().\n",
      "  estimator.fit(X[:, features], y, **fit_params)\n",
      "/Users/halabkhidhr/opt/anaconda3/envs/tensorflow/lib/python3.9/site-packages/sklearn/feature_selection/_rfe.py:296: DataConversionWarning: A column-vector y was passed when a 1d array was expected. Please change the shape of y to (n_samples,), for example using ravel().\n",
      "  estimator.fit(X[:, features], y, **fit_params)\n",
      "/Users/halabkhidhr/opt/anaconda3/envs/tensorflow/lib/python3.9/site-packages/sklearn/feature_selection/_rfe.py:323: DataConversionWarning: A column-vector y was passed when a 1d array was expected. Please change the shape of y to (n_samples,), for example using ravel().\n",
      "  self.estimator_.fit(X[:, features], y, **fit_params)\n"
     ]
    }
   ],
   "source": [
    "from sklearn.feature_selection import RFE\n",
    "from sklearn.ensemble import RandomForestClassifier\n",
    "\n",
    "clf = RandomForestClassifier()\n",
    "\n",
    "rfe = RFE(estimator=clf, n_features_to_select=25, step=1)\n",
    "\n",
    "rfe.fit(X, y)\n",
    "\n",
    "RFE_selected_features = X.columns[rfe.support_]"
   ]
  },
  {
   "cell_type": "code",
   "execution_count": 50,
   "metadata": {},
   "outputs": [
    {
     "data": {
      "text/plain": [
       "['Src IP',\n",
       " 'Dst IP',\n",
       " 'Dst Port',\n",
       " 'Protocol',\n",
       " 'Fwd Packet Length Min',\n",
       " 'Bwd Packet Length Min',\n",
       " 'Bwd Packet Length Mean',\n",
       " 'Flow IAT Max',\n",
       " 'Fwd IAT Std',\n",
       " 'Bwd Packets/s',\n",
       " 'Packet Length Min',\n",
       " 'Packet Length Mean',\n",
       " 'FIN Flag Count',\n",
       " 'PSH Flag Count',\n",
       " 'Average Packet Size',\n",
       " 'Bwd Segment Size Avg',\n",
       " 'Subflow Bwd Bytes',\n",
       " 'Bwd Init Win Bytes',\n",
       " 'Fwd Act Data Pkts',\n",
       " 'Fwd Seg Size Min',\n",
       " 'Idle Mean',\n",
       " 'Idle Std',\n",
       " 'Idle Max',\n",
       " 'Idle Min',\n",
       " 'application type']"
      ]
     },
     "execution_count": 50,
     "metadata": {},
     "output_type": "execute_result"
    }
   ],
   "source": [
    "RFE_selected_features= RFE_selected_features.to_list()\n",
    "RFE_selected_features"
   ]
  },
  {
   "attachments": {},
   "cell_type": "markdown",
   "metadata": {},
   "source": [
    "# mutual information gain"
   ]
  },
  {
   "cell_type": "code",
   "execution_count": 51,
   "metadata": {},
   "outputs": [
    {
     "name": "stderr",
     "output_type": "stream",
     "text": [
      "/Users/halabkhidhr/opt/anaconda3/envs/tensorflow/lib/python3.9/site-packages/sklearn/utils/validation.py:1111: DataConversionWarning: A column-vector y was passed when a 1d array was expected. Please change the shape of y to (n_samples, ), for example using ravel().\n",
      "  y = column_or_1d(y, warn=True)\n"
     ]
    }
   ],
   "source": [
    "from sklearn.feature_selection import SelectKBest, mutual_info_classif\n",
    "\n",
    "kbest = SelectKBest(score_func=mutual_info_classif, k=25)\n",
    "\n",
    "kbest.fit(X, y)\n",
    "\n",
    "MIC_selected_features = X.columns[kbest.get_support()]"
   ]
  },
  {
   "cell_type": "code",
   "execution_count": 52,
   "metadata": {},
   "outputs": [
    {
     "data": {
      "text/plain": [
       "['Src IP',\n",
       " 'Dst IP',\n",
       " 'Dst Port',\n",
       " 'Protocol',\n",
       " 'Fwd Packet Length Min',\n",
       " 'Bwd Packet Length Min',\n",
       " 'Bwd Packet Length Mean',\n",
       " 'Flow IAT Max',\n",
       " 'Bwd IAT Std',\n",
       " 'Bwd IAT Max',\n",
       " 'Bwd Packets/s',\n",
       " 'Packet Length Min',\n",
       " 'Packet Length Mean',\n",
       " 'PSH Flag Count',\n",
       " 'Average Packet Size',\n",
       " 'Bwd Segment Size Avg',\n",
       " 'Subflow Bwd Bytes',\n",
       " 'Bwd Init Win Bytes',\n",
       " 'Fwd Act Data Pkts',\n",
       " 'Fwd Seg Size Min',\n",
       " 'Idle Mean',\n",
       " 'Idle Std',\n",
       " 'Idle Max',\n",
       " 'Idle Min',\n",
       " 'application type']"
      ]
     },
     "execution_count": 52,
     "metadata": {},
     "output_type": "execute_result"
    }
   ],
   "source": [
    "MIC_selected_features=MIC_selected_features.to_list()\n",
    "MIC_selected_features"
   ]
  },
  {
   "attachments": {},
   "cell_type": "markdown",
   "metadata": {},
   "source": [
    "# CHI2 features dependency"
   ]
  },
  {
   "cell_type": "code",
   "execution_count": 53,
   "metadata": {},
   "outputs": [],
   "source": [
    "from sklearn.feature_selection import chi2\n",
    "\n",
    "kbest = SelectKBest(score_func=chi2, k=25)\n",
    "\n",
    "kbest.fit(X, y)\n",
    "\n",
    "CHI2_selected_features = X.columns[kbest.get_support()]"
   ]
  },
  {
   "cell_type": "code",
   "execution_count": 54,
   "metadata": {},
   "outputs": [
    {
     "data": {
      "text/plain": [
       "['Src IP',\n",
       " 'Dst IP',\n",
       " 'Dst Port',\n",
       " 'Protocol',\n",
       " 'Fwd Packet Length Min',\n",
       " 'Bwd Packet Length Min',\n",
       " 'Bwd Packet Length Mean',\n",
       " 'Flow IAT Max',\n",
       " 'Fwd IAT Std',\n",
       " 'Bwd IAT Std',\n",
       " 'Bwd IAT Max',\n",
       " 'Bwd Packets/s',\n",
       " 'Packet Length Min',\n",
       " 'Packet Length Mean',\n",
       " 'SYN Flag Count',\n",
       " 'PSH Flag Count',\n",
       " 'Average Packet Size',\n",
       " 'Bwd Segment Size Avg',\n",
       " 'Subflow Bwd Bytes',\n",
       " 'Bwd Init Win Bytes',\n",
       " 'Fwd Act Data Pkts',\n",
       " 'Idle Mean',\n",
       " 'Idle Std',\n",
       " 'Idle Max',\n",
       " 'Idle Min']"
      ]
     },
     "execution_count": 54,
     "metadata": {},
     "output_type": "execute_result"
    }
   ],
   "source": [
    "CHI2_selected_features= CHI2_selected_features.to_list()\n",
    "CHI2_selected_features"
   ]
  },
  {
   "attachments": {},
   "cell_type": "markdown",
   "metadata": {},
   "source": [
    "# ANNOVA features dependency"
   ]
  },
  {
   "cell_type": "code",
   "execution_count": 55,
   "metadata": {},
   "outputs": [
    {
     "name": "stderr",
     "output_type": "stream",
     "text": [
      "/Users/halabkhidhr/opt/anaconda3/envs/tensorflow/lib/python3.9/site-packages/sklearn/utils/validation.py:1111: DataConversionWarning: A column-vector y was passed when a 1d array was expected. Please change the shape of y to (n_samples, ), for example using ravel().\n",
      "  y = column_or_1d(y, warn=True)\n"
     ]
    }
   ],
   "source": [
    "from sklearn.feature_selection import f_classif\n",
    "\n",
    "kbest = SelectKBest(score_func=f_classif, k=25)\n",
    "\n",
    "\n",
    "kbest.fit(X, y)\n",
    "\n",
    "\n",
    "ANNOVA_selected_features = X.columns[kbest.get_support()]"
   ]
  },
  {
   "cell_type": "code",
   "execution_count": 56,
   "metadata": {},
   "outputs": [
    {
     "data": {
      "text/plain": [
       "['Src IP',\n",
       " 'Dst IP',\n",
       " 'Dst Port',\n",
       " 'Protocol',\n",
       " 'Fwd Packet Length Min',\n",
       " 'Bwd Packet Length Min',\n",
       " 'Bwd Packet Length Mean',\n",
       " 'Bwd IAT Max',\n",
       " 'Bwd Packets/s',\n",
       " 'Packet Length Min',\n",
       " 'Packet Length Mean',\n",
       " 'FIN Flag Count',\n",
       " 'SYN Flag Count',\n",
       " 'PSH Flag Count',\n",
       " 'Average Packet Size',\n",
       " 'Bwd Segment Size Avg',\n",
       " 'Subflow Bwd Bytes',\n",
       " 'Bwd Init Win Bytes',\n",
       " 'Fwd Act Data Pkts',\n",
       " 'Fwd Seg Size Min',\n",
       " 'Idle Mean',\n",
       " 'Idle Std',\n",
       " 'Idle Max',\n",
       " 'Idle Min',\n",
       " 'application type']"
      ]
     },
     "execution_count": 56,
     "metadata": {},
     "output_type": "execute_result"
    }
   ],
   "source": [
    "ANNOVA_selected_features= ANNOVA_selected_features.to_list()\n",
    "ANNOVA_selected_features"
   ]
  },
  {
   "attachments": {},
   "cell_type": "markdown",
   "metadata": {},
   "source": [
    "# overall best features"
   ]
  },
  {
   "cell_type": "code",
   "execution_count": 57,
   "metadata": {},
   "outputs": [
    {
     "name": "stdout",
     "output_type": "stream",
     "text": [
      "{'Average Packet Size', 'Packet Length Min', 'Dst IP', 'Bwd Init Win Bytes', 'Subflow Bwd Bytes', 'Dst Port', 'Idle Min', 'Fwd Packet Length Min', 'Idle Max', 'Protocol', 'Idle Mean', 'PSH Flag Count', 'Bwd Packets/s', 'Fwd Act Data Pkts', 'Src IP', 'Bwd Packet Length Min', 'Packet Length Mean', 'Bwd Packet Length Mean', 'Bwd Segment Size Avg', 'Idle Std'}\n"
     ]
    }
   ],
   "source": [
    "commun_features = set(RFE_selected_features).intersection(MIC_selected_features, CHI2_selected_features, ANNOVA_selected_features)\n",
    "\n",
    "print(commun_features)  "
   ]
  },
  {
   "cell_type": "code",
   "execution_count": 58,
   "metadata": {},
   "outputs": [],
   "source": [
    "best_features = list(commun_features)"
   ]
  },
  {
   "cell_type": "code",
   "execution_count": 59,
   "metadata": {},
   "outputs": [
    {
     "data": {
      "text/plain": [
       "20"
      ]
     },
     "execution_count": 59,
     "metadata": {},
     "output_type": "execute_result"
    }
   ],
   "source": [
    "len(best_features)"
   ]
  },
  {
   "cell_type": "code",
   "execution_count": 60,
   "metadata": {},
   "outputs": [],
   "source": [
    "newDF = df.loc[:,best_features]"
   ]
  },
  {
   "cell_type": "code",
   "execution_count": 61,
   "metadata": {},
   "outputs": [],
   "source": [
    "newDF=pd.concat([newDF,y],axis=1)"
   ]
  },
  {
   "cell_type": "code",
   "execution_count": 62,
   "metadata": {},
   "outputs": [
    {
     "data": {
      "text/plain": [
       "(213317, 21)"
      ]
     },
     "execution_count": 62,
     "metadata": {},
     "output_type": "execute_result"
    }
   ],
   "source": [
    "newDF.shape"
   ]
  },
  {
   "cell_type": "code",
   "execution_count": 63,
   "metadata": {},
   "outputs": [
    {
     "data": {
      "text/html": [
       "<div>\n",
       "<style scoped>\n",
       "    .dataframe tbody tr th:only-of-type {\n",
       "        vertical-align: middle;\n",
       "    }\n",
       "\n",
       "    .dataframe tbody tr th {\n",
       "        vertical-align: top;\n",
       "    }\n",
       "\n",
       "    .dataframe thead th {\n",
       "        text-align: right;\n",
       "    }\n",
       "</style>\n",
       "<table border=\"1\" class=\"dataframe\">\n",
       "  <thead>\n",
       "    <tr style=\"text-align: right;\">\n",
       "      <th></th>\n",
       "      <th>Average Packet Size</th>\n",
       "      <th>Packet Length Min</th>\n",
       "      <th>Dst IP</th>\n",
       "      <th>Bwd Init Win Bytes</th>\n",
       "      <th>Subflow Bwd Bytes</th>\n",
       "      <th>Dst Port</th>\n",
       "      <th>Idle Min</th>\n",
       "      <th>Fwd Packet Length Min</th>\n",
       "      <th>Idle Max</th>\n",
       "      <th>Protocol</th>\n",
       "      <th>...</th>\n",
       "      <th>PSH Flag Count</th>\n",
       "      <th>Bwd Packets/s</th>\n",
       "      <th>Fwd Act Data Pkts</th>\n",
       "      <th>Src IP</th>\n",
       "      <th>Bwd Packet Length Min</th>\n",
       "      <th>Packet Length Mean</th>\n",
       "      <th>Bwd Packet Length Mean</th>\n",
       "      <th>Bwd Segment Size Avg</th>\n",
       "      <th>Idle Std</th>\n",
       "      <th>traffic nature</th>\n",
       "    </tr>\n",
       "  </thead>\n",
       "  <tbody>\n",
       "    <tr>\n",
       "      <th>0</th>\n",
       "      <td>0.000000</td>\n",
       "      <td>0</td>\n",
       "      <td>1249740220</td>\n",
       "      <td>1181</td>\n",
       "      <td>0</td>\n",
       "      <td>5228</td>\n",
       "      <td>1.437770e+15</td>\n",
       "      <td>0</td>\n",
       "      <td>1.437770e+15</td>\n",
       "      <td>6</td>\n",
       "      <td>...</td>\n",
       "      <td>0</td>\n",
       "      <td>0.033292</td>\n",
       "      <td>0</td>\n",
       "      <td>177772555</td>\n",
       "      <td>0</td>\n",
       "      <td>0.000000</td>\n",
       "      <td>0.000000</td>\n",
       "      <td>0.000000</td>\n",
       "      <td>3.678736e+07</td>\n",
       "      <td>0</td>\n",
       "    </tr>\n",
       "    <tr>\n",
       "      <th>1</th>\n",
       "      <td>99.000000</td>\n",
       "      <td>42</td>\n",
       "      <td>3322363789</td>\n",
       "      <td>0</td>\n",
       "      <td>57</td>\n",
       "      <td>53</td>\n",
       "      <td>0.000000e+00</td>\n",
       "      <td>42</td>\n",
       "      <td>0.000000e+00</td>\n",
       "      <td>17</td>\n",
       "      <td>...</td>\n",
       "      <td>0</td>\n",
       "      <td>8.642594</td>\n",
       "      <td>0</td>\n",
       "      <td>168298718</td>\n",
       "      <td>114</td>\n",
       "      <td>66.000000</td>\n",
       "      <td>114.000000</td>\n",
       "      <td>114.000000</td>\n",
       "      <td>0.000000e+00</td>\n",
       "      <td>2</td>\n",
       "    </tr>\n",
       "    <tr>\n",
       "      <th>2</th>\n",
       "      <td>0.000000</td>\n",
       "      <td>0</td>\n",
       "      <td>177772555</td>\n",
       "      <td>980</td>\n",
       "      <td>0</td>\n",
       "      <td>48213</td>\n",
       "      <td>0.000000e+00</td>\n",
       "      <td>0</td>\n",
       "      <td>0.000000e+00</td>\n",
       "      <td>6</td>\n",
       "      <td>...</td>\n",
       "      <td>0</td>\n",
       "      <td>47619.047620</td>\n",
       "      <td>0</td>\n",
       "      <td>1796602589</td>\n",
       "      <td>0</td>\n",
       "      <td>0.000000</td>\n",
       "      <td>0.000000</td>\n",
       "      <td>0.000000</td>\n",
       "      <td>0.000000e+00</td>\n",
       "      <td>0</td>\n",
       "    </tr>\n",
       "    <tr>\n",
       "      <th>3</th>\n",
       "      <td>223.500000</td>\n",
       "      <td>37</td>\n",
       "      <td>2211055107</td>\n",
       "      <td>0</td>\n",
       "      <td>186</td>\n",
       "      <td>53</td>\n",
       "      <td>0.000000e+00</td>\n",
       "      <td>37</td>\n",
       "      <td>0.000000e+00</td>\n",
       "      <td>17</td>\n",
       "      <td>...</td>\n",
       "      <td>0</td>\n",
       "      <td>532.197978</td>\n",
       "      <td>0</td>\n",
       "      <td>168296462</td>\n",
       "      <td>373</td>\n",
       "      <td>149.000000</td>\n",
       "      <td>373.000000</td>\n",
       "      <td>373.000000</td>\n",
       "      <td>0.000000e+00</td>\n",
       "      <td>2</td>\n",
       "    </tr>\n",
       "    <tr>\n",
       "      <th>4</th>\n",
       "      <td>0.000000</td>\n",
       "      <td>0</td>\n",
       "      <td>177772555</td>\n",
       "      <td>0</td>\n",
       "      <td>0</td>\n",
       "      <td>42857</td>\n",
       "      <td>0.000000e+00</td>\n",
       "      <td>0</td>\n",
       "      <td>0.000000e+00</td>\n",
       "      <td>6</td>\n",
       "      <td>...</td>\n",
       "      <td>0</td>\n",
       "      <td>0.000000</td>\n",
       "      <td>0</td>\n",
       "      <td>3645881404</td>\n",
       "      <td>0</td>\n",
       "      <td>0.000000</td>\n",
       "      <td>0.000000</td>\n",
       "      <td>0.000000</td>\n",
       "      <td>0.000000e+00</td>\n",
       "      <td>0</td>\n",
       "    </tr>\n",
       "    <tr>\n",
       "      <th>...</th>\n",
       "      <td>...</td>\n",
       "      <td>...</td>\n",
       "      <td>...</td>\n",
       "      <td>...</td>\n",
       "      <td>...</td>\n",
       "      <td>...</td>\n",
       "      <td>...</td>\n",
       "      <td>...</td>\n",
       "      <td>...</td>\n",
       "      <td>...</td>\n",
       "      <td>...</td>\n",
       "      <td>...</td>\n",
       "      <td>...</td>\n",
       "      <td>...</td>\n",
       "      <td>...</td>\n",
       "      <td>...</td>\n",
       "      <td>...</td>\n",
       "      <td>...</td>\n",
       "      <td>...</td>\n",
       "      <td>...</td>\n",
       "      <td>...</td>\n",
       "    </tr>\n",
       "    <tr>\n",
       "      <th>213312</th>\n",
       "      <td>0.000000</td>\n",
       "      <td>0</td>\n",
       "      <td>2915224844</td>\n",
       "      <td>379</td>\n",
       "      <td>0</td>\n",
       "      <td>4852</td>\n",
       "      <td>0.000000e+00</td>\n",
       "      <td>0</td>\n",
       "      <td>0.000000e+00</td>\n",
       "      <td>6</td>\n",
       "      <td>...</td>\n",
       "      <td>0</td>\n",
       "      <td>25.928187</td>\n",
       "      <td>0</td>\n",
       "      <td>2211115158</td>\n",
       "      <td>0</td>\n",
       "      <td>0.000000</td>\n",
       "      <td>0.000000</td>\n",
       "      <td>0.000000</td>\n",
       "      <td>0.000000e+00</td>\n",
       "      <td>3</td>\n",
       "    </tr>\n",
       "    <tr>\n",
       "      <th>213313</th>\n",
       "      <td>124.385412</td>\n",
       "      <td>32</td>\n",
       "      <td>2211055107</td>\n",
       "      <td>0</td>\n",
       "      <td>92</td>\n",
       "      <td>53</td>\n",
       "      <td>0.000000e+00</td>\n",
       "      <td>32</td>\n",
       "      <td>0.000000e+00</td>\n",
       "      <td>17</td>\n",
       "      <td>...</td>\n",
       "      <td>0</td>\n",
       "      <td>860.461083</td>\n",
       "      <td>0</td>\n",
       "      <td>2211115158</td>\n",
       "      <td>184</td>\n",
       "      <td>82.923608</td>\n",
       "      <td>184.529941</td>\n",
       "      <td>184.529941</td>\n",
       "      <td>0.000000e+00</td>\n",
       "      <td>3</td>\n",
       "    </tr>\n",
       "    <tr>\n",
       "      <th>213314</th>\n",
       "      <td>679.935601</td>\n",
       "      <td>0</td>\n",
       "      <td>3281674540</td>\n",
       "      <td>65535</td>\n",
       "      <td>564</td>\n",
       "      <td>443</td>\n",
       "      <td>1.456330e+15</td>\n",
       "      <td>0</td>\n",
       "      <td>1.456330e+15</td>\n",
       "      <td>6</td>\n",
       "      <td>...</td>\n",
       "      <td>550</td>\n",
       "      <td>10.388149</td>\n",
       "      <td>95</td>\n",
       "      <td>167772687</td>\n",
       "      <td>0</td>\n",
       "      <td>663.955415</td>\n",
       "      <td>775.478086</td>\n",
       "      <td>775.478086</td>\n",
       "      <td>2.087574e+07</td>\n",
       "      <td>3</td>\n",
       "    </tr>\n",
       "    <tr>\n",
       "      <th>213315</th>\n",
       "      <td>650.371199</td>\n",
       "      <td>0</td>\n",
       "      <td>3281677079</td>\n",
       "      <td>65535</td>\n",
       "      <td>451</td>\n",
       "      <td>443</td>\n",
       "      <td>1.456400e+15</td>\n",
       "      <td>0</td>\n",
       "      <td>1.456400e+15</td>\n",
       "      <td>6</td>\n",
       "      <td>...</td>\n",
       "      <td>1869</td>\n",
       "      <td>21.970592</td>\n",
       "      <td>1093</td>\n",
       "      <td>167772687</td>\n",
       "      <td>0</td>\n",
       "      <td>650.226750</td>\n",
       "      <td>797.999022</td>\n",
       "      <td>797.999022</td>\n",
       "      <td>3.114654e+07</td>\n",
       "      <td>3</td>\n",
       "    </tr>\n",
       "    <tr>\n",
       "      <th>213316</th>\n",
       "      <td>889.396334</td>\n",
       "      <td>0</td>\n",
       "      <td>3281670855</td>\n",
       "      <td>65535</td>\n",
       "      <td>855</td>\n",
       "      <td>443</td>\n",
       "      <td>1.456340e+15</td>\n",
       "      <td>0</td>\n",
       "      <td>1.456340e+15</td>\n",
       "      <td>6</td>\n",
       "      <td>...</td>\n",
       "      <td>152</td>\n",
       "      <td>28.799564</td>\n",
       "      <td>27</td>\n",
       "      <td>167772687</td>\n",
       "      <td>0</td>\n",
       "      <td>887.478674</td>\n",
       "      <td>1219.371115</td>\n",
       "      <td>1219.371115</td>\n",
       "      <td>5.964876e+05</td>\n",
       "      <td>3</td>\n",
       "    </tr>\n",
       "  </tbody>\n",
       "</table>\n",
       "<p>213317 rows × 21 columns</p>\n",
       "</div>"
      ],
      "text/plain": [
       "        Average Packet Size  Packet Length Min      Dst IP  \\\n",
       "0                  0.000000                  0  1249740220   \n",
       "1                 99.000000                 42  3322363789   \n",
       "2                  0.000000                  0   177772555   \n",
       "3                223.500000                 37  2211055107   \n",
       "4                  0.000000                  0   177772555   \n",
       "...                     ...                ...         ...   \n",
       "213312             0.000000                  0  2915224844   \n",
       "213313           124.385412                 32  2211055107   \n",
       "213314           679.935601                  0  3281674540   \n",
       "213315           650.371199                  0  3281677079   \n",
       "213316           889.396334                  0  3281670855   \n",
       "\n",
       "        Bwd Init Win Bytes  Subflow Bwd Bytes  Dst Port      Idle Min  \\\n",
       "0                     1181                  0      5228  1.437770e+15   \n",
       "1                        0                 57        53  0.000000e+00   \n",
       "2                      980                  0     48213  0.000000e+00   \n",
       "3                        0                186        53  0.000000e+00   \n",
       "4                        0                  0     42857  0.000000e+00   \n",
       "...                    ...                ...       ...           ...   \n",
       "213312                 379                  0      4852  0.000000e+00   \n",
       "213313                   0                 92        53  0.000000e+00   \n",
       "213314               65535                564       443  1.456330e+15   \n",
       "213315               65535                451       443  1.456400e+15   \n",
       "213316               65535                855       443  1.456340e+15   \n",
       "\n",
       "        Fwd Packet Length Min      Idle Max  Protocol  ...  PSH Flag Count  \\\n",
       "0                           0  1.437770e+15         6  ...               0   \n",
       "1                          42  0.000000e+00        17  ...               0   \n",
       "2                           0  0.000000e+00         6  ...               0   \n",
       "3                          37  0.000000e+00        17  ...               0   \n",
       "4                           0  0.000000e+00         6  ...               0   \n",
       "...                       ...           ...       ...  ...             ...   \n",
       "213312                      0  0.000000e+00         6  ...               0   \n",
       "213313                     32  0.000000e+00        17  ...               0   \n",
       "213314                      0  1.456330e+15         6  ...             550   \n",
       "213315                      0  1.456400e+15         6  ...            1869   \n",
       "213316                      0  1.456340e+15         6  ...             152   \n",
       "\n",
       "        Bwd Packets/s  Fwd Act Data Pkts      Src IP  Bwd Packet Length Min  \\\n",
       "0            0.033292                  0   177772555                      0   \n",
       "1            8.642594                  0   168298718                    114   \n",
       "2        47619.047620                  0  1796602589                      0   \n",
       "3          532.197978                  0   168296462                    373   \n",
       "4            0.000000                  0  3645881404                      0   \n",
       "...               ...                ...         ...                    ...   \n",
       "213312      25.928187                  0  2211115158                      0   \n",
       "213313     860.461083                  0  2211115158                    184   \n",
       "213314      10.388149                 95   167772687                      0   \n",
       "213315      21.970592               1093   167772687                      0   \n",
       "213316      28.799564                 27   167772687                      0   \n",
       "\n",
       "        Packet Length Mean  Bwd Packet Length Mean  Bwd Segment Size Avg  \\\n",
       "0                 0.000000                0.000000              0.000000   \n",
       "1                66.000000              114.000000            114.000000   \n",
       "2                 0.000000                0.000000              0.000000   \n",
       "3               149.000000              373.000000            373.000000   \n",
       "4                 0.000000                0.000000              0.000000   \n",
       "...                    ...                     ...                   ...   \n",
       "213312            0.000000                0.000000              0.000000   \n",
       "213313           82.923608              184.529941            184.529941   \n",
       "213314          663.955415              775.478086            775.478086   \n",
       "213315          650.226750              797.999022            797.999022   \n",
       "213316          887.478674             1219.371115           1219.371115   \n",
       "\n",
       "            Idle Std  traffic nature  \n",
       "0       3.678736e+07               0  \n",
       "1       0.000000e+00               2  \n",
       "2       0.000000e+00               0  \n",
       "3       0.000000e+00               2  \n",
       "4       0.000000e+00               0  \n",
       "...              ...             ...  \n",
       "213312  0.000000e+00               3  \n",
       "213313  0.000000e+00               3  \n",
       "213314  2.087574e+07               3  \n",
       "213315  3.114654e+07               3  \n",
       "213316  5.964876e+05               3  \n",
       "\n",
       "[213317 rows x 21 columns]"
      ]
     },
     "execution_count": 63,
     "metadata": {},
     "output_type": "execute_result"
    }
   ],
   "source": [
    "newDF"
   ]
  },
  {
   "cell_type": "code",
   "execution_count": 64,
   "metadata": {},
   "outputs": [
    {
     "data": {
      "text/plain": [
       "0    55167\n",
       "2    53969\n",
       "1    52846\n",
       "3    51335\n",
       "Name: traffic nature, dtype: int64"
      ]
     },
     "execution_count": 64,
     "metadata": {},
     "output_type": "execute_result"
    }
   ],
   "source": [
    "newDF[\"traffic nature\"].value_counts()"
   ]
  },
  {
   "cell_type": "code",
   "execution_count": 65,
   "metadata": {},
   "outputs": [
    {
     "data": {
      "text/plain": [
       "Average Packet Size       0.471617\n",
       "Packet Length Min        -0.238852\n",
       "Dst IP                   -0.011654\n",
       "Bwd Init Win Bytes        0.472792\n",
       "Subflow Bwd Bytes         0.337894\n",
       "Dst Port                 -0.075682\n",
       "Idle Min                  0.827853\n",
       "Fwd Packet Length Min    -0.203956\n",
       "Idle Max                  0.990212\n",
       "Protocol                 -0.401364\n",
       "Idle Mean                 1.000000\n",
       "PSH Flag Count            0.235571\n",
       "Bwd Packets/s            -0.159213\n",
       "Fwd Act Data Pkts         0.168092\n",
       "Src IP                   -0.118370\n",
       "Bwd Packet Length Min    -0.355201\n",
       "Packet Length Mean        0.496559\n",
       "Bwd Packet Length Mean    0.337787\n",
       "Bwd Segment Size Avg      0.337787\n",
       "Idle Std                  0.180037\n",
       "traffic nature            0.077312\n",
       "Name: Idle Mean, dtype: float64"
      ]
     },
     "execution_count": 65,
     "metadata": {},
     "output_type": "execute_result"
    }
   ],
   "source": [
    "newDF.corr()[\"Idle Mean\"]"
   ]
  },
  {
   "attachments": {},
   "cell_type": "markdown",
   "metadata": {},
   "source": [
    "# idle mean , idle max, idle min are mutally highly correlated ,thus, one of them can represent all of them\n"
   ]
  },
  {
   "cell_type": "code",
   "execution_count": 66,
   "metadata": {},
   "outputs": [],
   "source": [
    "newDF = newDF.drop([\"Idle Min\",\"Idle Max\"],axis=1)"
   ]
  },
  {
   "cell_type": "code",
   "execution_count": 67,
   "metadata": {},
   "outputs": [
    {
     "data": {
      "text/plain": [
       "(213317, 19)"
      ]
     },
     "execution_count": 67,
     "metadata": {},
     "output_type": "execute_result"
    }
   ],
   "source": [
    "newDF.shape"
   ]
  },
  {
   "attachments": {},
   "cell_type": "markdown",
   "metadata": {},
   "source": [
    "### samething for the rest of features ,dropping one of all mutually highly correlated features to avoid issues with multicollinearity :"
   ]
  },
  {
   "cell_type": "code",
   "execution_count": 68,
   "metadata": {},
   "outputs": [
    {
     "name": "stdout",
     "output_type": "stream",
     "text": [
      "[('Subflow Bwd Bytes', 'Average Packet Size'), ('Fwd Act Data Pkts', 'PSH Flag Count'), ('Packet Length Mean', 'Average Packet Size'), ('Packet Length Mean', 'Subflow Bwd Bytes'), ('Bwd Packet Length Mean', 'Average Packet Size'), ('Bwd Packet Length Mean', 'Subflow Bwd Bytes'), ('Bwd Packet Length Mean', 'Packet Length Mean'), ('Bwd Segment Size Avg', 'Average Packet Size'), ('Bwd Segment Size Avg', 'Subflow Bwd Bytes'), ('Bwd Segment Size Avg', 'Packet Length Mean'), ('Bwd Segment Size Avg', 'Bwd Packet Length Mean')]\n"
     ]
    }
   ],
   "source": [
    "corr_matrix = newDF.corr().abs()\n",
    "\n",
    "# Create a boolean mask for highly correlated features\n",
    "high_corr_mask = corr_matrix > 0.8\n",
    "\n",
    "# Filter the highly correlated features\n",
    "high_corr_features = []\n",
    "for i in range(len(high_corr_mask.columns)):\n",
    "    for j in range(i):\n",
    "        if high_corr_mask.iloc[i, j]:\n",
    "            colname1 = high_corr_mask.columns[i]\n",
    "            colname2 = high_corr_mask.columns[j]\n",
    "            high_corr_features.append((colname1, colname2))\n",
    "\n",
    "# Print the highly correlated feature pairs\n",
    "print(high_corr_features)"
   ]
  },
  {
   "cell_type": "code",
   "execution_count": 69,
   "metadata": {},
   "outputs": [
    {
     "data": {
      "text/plain": [
       "11"
      ]
     },
     "execution_count": 69,
     "metadata": {},
     "output_type": "execute_result"
    }
   ],
   "source": [
    "len(high_corr_features)"
   ]
  },
  {
   "cell_type": "code",
   "execution_count": 70,
   "metadata": {},
   "outputs": [
    {
     "data": {
      "text/plain": [
       "(213317, 1)"
      ]
     },
     "execution_count": 70,
     "metadata": {},
     "output_type": "execute_result"
    }
   ],
   "source": [
    "X = newDF.drop(\"traffic nature\",axis=1)\n",
    "X.shape\n",
    "y.shape"
   ]
  },
  {
   "attachments": {},
   "cell_type": "markdown",
   "metadata": {},
   "source": [
    "### to choose what column to drop , we will use feature importance provided by a random forest classifier , the one assigned to the lowest importance by the classifier will be dropped :"
   ]
  },
  {
   "cell_type": "code",
   "execution_count": 71,
   "metadata": {},
   "outputs": [
    {
     "name": "stderr",
     "output_type": "stream",
     "text": [
      "/var/folders/8v/ttpmf4hj5hq5c49n7ldh1nx40000gn/T/ipykernel_26980/3013282165.py:5: DataConversionWarning: A column-vector y was passed when a 1d array was expected. Please change the shape of y to (n_samples,), for example using ravel().\n",
      "  rf.fit(X, y)\n"
     ]
    }
   ],
   "source": [
    "from sklearn.ensemble import RandomForestClassifier\n",
    "\n",
    "# Assume X and y are the feature matrix and target vector, respectively\n",
    "rf = RandomForestClassifier(n_estimators=100, random_state=42)\n",
    "rf.fit(X, y)\n",
    "\n",
    "# Compute feature importance scores\n",
    "feature_importance = dict(zip(X.columns, rf.feature_importances_))"
   ]
  },
  {
   "cell_type": "code",
   "execution_count": 72,
   "metadata": {},
   "outputs": [
    {
     "data": {
      "text/plain": [
       "{'Average Packet Size': 0.05020300374935943,\n",
       " 'Packet Length Min': 0.017270598284792125,\n",
       " 'Dst IP': 0.0885799354437332,\n",
       " 'Bwd Init Win Bytes': 0.1340181379648132,\n",
       " 'Subflow Bwd Bytes': 0.01456159026246243,\n",
       " 'Dst Port': 0.036866528085073985,\n",
       " 'Fwd Packet Length Min': 0.014458002316509498,\n",
       " 'Protocol': 0.013444047895274558,\n",
       " 'Idle Mean': 0.09716178251705594,\n",
       " 'PSH Flag Count': 0.030198021570437987,\n",
       " 'Bwd Packets/s': 0.04472827861380822,\n",
       " 'Fwd Act Data Pkts': 0.023094195518449826,\n",
       " 'Src IP': 0.31737621699087815,\n",
       " 'Bwd Packet Length Min': 0.018035704573141517,\n",
       " 'Packet Length Mean': 0.04067417630852918,\n",
       " 'Bwd Packet Length Mean': 0.019817690591186723,\n",
       " 'Bwd Segment Size Avg': 0.022477953287675885,\n",
       " 'Idle Std': 0.017034136026818237}"
      ]
     },
     "execution_count": 72,
     "metadata": {},
     "output_type": "execute_result"
    }
   ],
   "source": [
    "feature_importance"
   ]
  },
  {
   "cell_type": "code",
   "execution_count": 73,
   "metadata": {},
   "outputs": [],
   "source": [
    "for corr_feature in high_corr_features:\n",
    "    # Choose one of the correlated features to drop\n",
    "    feature1, feature2 = corr_feature\n",
    "    if feature_importance[feature1] > feature_importance[feature2]:\n",
    "        drop_feature = feature2\n",
    "    else:\n",
    "        drop_feature = feature1\n",
    "        \n",
    "    # Drop the feature from the dataset\n",
    "    if drop_feature in newDF.columns.to_list():\n",
    "        newDF.drop(columns=[drop_feature], inplace=True)"
   ]
  },
  {
   "cell_type": "code",
   "execution_count": 74,
   "metadata": {},
   "outputs": [],
   "source": [
    "last_columns = newDF.columns.to_list()"
   ]
  },
  {
   "cell_type": "code",
   "execution_count": 75,
   "metadata": {},
   "outputs": [
    {
     "data": {
      "text/plain": [
       "['Average Packet Size',\n",
       " 'Packet Length Min',\n",
       " 'Dst IP',\n",
       " 'Bwd Init Win Bytes',\n",
       " 'Dst Port',\n",
       " 'Fwd Packet Length Min',\n",
       " 'Protocol',\n",
       " 'Idle Mean',\n",
       " 'PSH Flag Count',\n",
       " 'Bwd Packets/s',\n",
       " 'Src IP',\n",
       " 'Bwd Packet Length Min',\n",
       " 'Idle Std',\n",
       " 'traffic nature']"
      ]
     },
     "execution_count": 75,
     "metadata": {},
     "output_type": "execute_result"
    }
   ],
   "source": [
    "last_columns"
   ]
  },
  {
   "cell_type": "code",
   "execution_count": 76,
   "metadata": {},
   "outputs": [
    {
     "data": {
      "text/plain": [
       "14"
      ]
     },
     "execution_count": 76,
     "metadata": {},
     "output_type": "execute_result"
    }
   ],
   "source": [
    "len(last_columns)"
   ]
  },
  {
   "cell_type": "code",
   "execution_count": 77,
   "metadata": {},
   "outputs": [
    {
     "data": {
      "text/html": [
       "<div>\n",
       "<style scoped>\n",
       "    .dataframe tbody tr th:only-of-type {\n",
       "        vertical-align: middle;\n",
       "    }\n",
       "\n",
       "    .dataframe tbody tr th {\n",
       "        vertical-align: top;\n",
       "    }\n",
       "\n",
       "    .dataframe thead th {\n",
       "        text-align: right;\n",
       "    }\n",
       "</style>\n",
       "<table border=\"1\" class=\"dataframe\">\n",
       "  <thead>\n",
       "    <tr style=\"text-align: right;\">\n",
       "      <th></th>\n",
       "      <th>Average Packet Size</th>\n",
       "      <th>Packet Length Min</th>\n",
       "      <th>Dst IP</th>\n",
       "      <th>Bwd Init Win Bytes</th>\n",
       "      <th>Dst Port</th>\n",
       "      <th>Fwd Packet Length Min</th>\n",
       "      <th>Protocol</th>\n",
       "      <th>Idle Mean</th>\n",
       "      <th>PSH Flag Count</th>\n",
       "      <th>Bwd Packets/s</th>\n",
       "      <th>Src IP</th>\n",
       "      <th>Bwd Packet Length Min</th>\n",
       "      <th>Idle Std</th>\n",
       "      <th>traffic nature</th>\n",
       "    </tr>\n",
       "  </thead>\n",
       "  <tbody>\n",
       "    <tr>\n",
       "      <th>0</th>\n",
       "      <td>0.000000</td>\n",
       "      <td>0</td>\n",
       "      <td>1249740220</td>\n",
       "      <td>1181</td>\n",
       "      <td>5228</td>\n",
       "      <td>0</td>\n",
       "      <td>6</td>\n",
       "      <td>1.437770e+15</td>\n",
       "      <td>0</td>\n",
       "      <td>0.033292</td>\n",
       "      <td>177772555</td>\n",
       "      <td>0</td>\n",
       "      <td>3.678736e+07</td>\n",
       "      <td>0</td>\n",
       "    </tr>\n",
       "    <tr>\n",
       "      <th>1</th>\n",
       "      <td>99.000000</td>\n",
       "      <td>42</td>\n",
       "      <td>3322363789</td>\n",
       "      <td>0</td>\n",
       "      <td>53</td>\n",
       "      <td>42</td>\n",
       "      <td>17</td>\n",
       "      <td>0.000000e+00</td>\n",
       "      <td>0</td>\n",
       "      <td>8.642594</td>\n",
       "      <td>168298718</td>\n",
       "      <td>114</td>\n",
       "      <td>0.000000e+00</td>\n",
       "      <td>2</td>\n",
       "    </tr>\n",
       "    <tr>\n",
       "      <th>2</th>\n",
       "      <td>0.000000</td>\n",
       "      <td>0</td>\n",
       "      <td>177772555</td>\n",
       "      <td>980</td>\n",
       "      <td>48213</td>\n",
       "      <td>0</td>\n",
       "      <td>6</td>\n",
       "      <td>0.000000e+00</td>\n",
       "      <td>0</td>\n",
       "      <td>47619.047620</td>\n",
       "      <td>1796602589</td>\n",
       "      <td>0</td>\n",
       "      <td>0.000000e+00</td>\n",
       "      <td>0</td>\n",
       "    </tr>\n",
       "    <tr>\n",
       "      <th>3</th>\n",
       "      <td>223.500000</td>\n",
       "      <td>37</td>\n",
       "      <td>2211055107</td>\n",
       "      <td>0</td>\n",
       "      <td>53</td>\n",
       "      <td>37</td>\n",
       "      <td>17</td>\n",
       "      <td>0.000000e+00</td>\n",
       "      <td>0</td>\n",
       "      <td>532.197978</td>\n",
       "      <td>168296462</td>\n",
       "      <td>373</td>\n",
       "      <td>0.000000e+00</td>\n",
       "      <td>2</td>\n",
       "    </tr>\n",
       "    <tr>\n",
       "      <th>4</th>\n",
       "      <td>0.000000</td>\n",
       "      <td>0</td>\n",
       "      <td>177772555</td>\n",
       "      <td>0</td>\n",
       "      <td>42857</td>\n",
       "      <td>0</td>\n",
       "      <td>6</td>\n",
       "      <td>0.000000e+00</td>\n",
       "      <td>0</td>\n",
       "      <td>0.000000</td>\n",
       "      <td>3645881404</td>\n",
       "      <td>0</td>\n",
       "      <td>0.000000e+00</td>\n",
       "      <td>0</td>\n",
       "    </tr>\n",
       "    <tr>\n",
       "      <th>...</th>\n",
       "      <td>...</td>\n",
       "      <td>...</td>\n",
       "      <td>...</td>\n",
       "      <td>...</td>\n",
       "      <td>...</td>\n",
       "      <td>...</td>\n",
       "      <td>...</td>\n",
       "      <td>...</td>\n",
       "      <td>...</td>\n",
       "      <td>...</td>\n",
       "      <td>...</td>\n",
       "      <td>...</td>\n",
       "      <td>...</td>\n",
       "      <td>...</td>\n",
       "    </tr>\n",
       "    <tr>\n",
       "      <th>213312</th>\n",
       "      <td>0.000000</td>\n",
       "      <td>0</td>\n",
       "      <td>2915224844</td>\n",
       "      <td>379</td>\n",
       "      <td>4852</td>\n",
       "      <td>0</td>\n",
       "      <td>6</td>\n",
       "      <td>0.000000e+00</td>\n",
       "      <td>0</td>\n",
       "      <td>25.928187</td>\n",
       "      <td>2211115158</td>\n",
       "      <td>0</td>\n",
       "      <td>0.000000e+00</td>\n",
       "      <td>3</td>\n",
       "    </tr>\n",
       "    <tr>\n",
       "      <th>213313</th>\n",
       "      <td>124.385412</td>\n",
       "      <td>32</td>\n",
       "      <td>2211055107</td>\n",
       "      <td>0</td>\n",
       "      <td>53</td>\n",
       "      <td>32</td>\n",
       "      <td>17</td>\n",
       "      <td>0.000000e+00</td>\n",
       "      <td>0</td>\n",
       "      <td>860.461083</td>\n",
       "      <td>2211115158</td>\n",
       "      <td>184</td>\n",
       "      <td>0.000000e+00</td>\n",
       "      <td>3</td>\n",
       "    </tr>\n",
       "    <tr>\n",
       "      <th>213314</th>\n",
       "      <td>679.935601</td>\n",
       "      <td>0</td>\n",
       "      <td>3281674540</td>\n",
       "      <td>65535</td>\n",
       "      <td>443</td>\n",
       "      <td>0</td>\n",
       "      <td>6</td>\n",
       "      <td>1.456330e+15</td>\n",
       "      <td>550</td>\n",
       "      <td>10.388149</td>\n",
       "      <td>167772687</td>\n",
       "      <td>0</td>\n",
       "      <td>2.087574e+07</td>\n",
       "      <td>3</td>\n",
       "    </tr>\n",
       "    <tr>\n",
       "      <th>213315</th>\n",
       "      <td>650.371199</td>\n",
       "      <td>0</td>\n",
       "      <td>3281677079</td>\n",
       "      <td>65535</td>\n",
       "      <td>443</td>\n",
       "      <td>0</td>\n",
       "      <td>6</td>\n",
       "      <td>1.456400e+15</td>\n",
       "      <td>1869</td>\n",
       "      <td>21.970592</td>\n",
       "      <td>167772687</td>\n",
       "      <td>0</td>\n",
       "      <td>3.114654e+07</td>\n",
       "      <td>3</td>\n",
       "    </tr>\n",
       "    <tr>\n",
       "      <th>213316</th>\n",
       "      <td>889.396334</td>\n",
       "      <td>0</td>\n",
       "      <td>3281670855</td>\n",
       "      <td>65535</td>\n",
       "      <td>443</td>\n",
       "      <td>0</td>\n",
       "      <td>6</td>\n",
       "      <td>1.456340e+15</td>\n",
       "      <td>152</td>\n",
       "      <td>28.799564</td>\n",
       "      <td>167772687</td>\n",
       "      <td>0</td>\n",
       "      <td>5.964876e+05</td>\n",
       "      <td>3</td>\n",
       "    </tr>\n",
       "  </tbody>\n",
       "</table>\n",
       "<p>213317 rows × 14 columns</p>\n",
       "</div>"
      ],
      "text/plain": [
       "        Average Packet Size  Packet Length Min      Dst IP  \\\n",
       "0                  0.000000                  0  1249740220   \n",
       "1                 99.000000                 42  3322363789   \n",
       "2                  0.000000                  0   177772555   \n",
       "3                223.500000                 37  2211055107   \n",
       "4                  0.000000                  0   177772555   \n",
       "...                     ...                ...         ...   \n",
       "213312             0.000000                  0  2915224844   \n",
       "213313           124.385412                 32  2211055107   \n",
       "213314           679.935601                  0  3281674540   \n",
       "213315           650.371199                  0  3281677079   \n",
       "213316           889.396334                  0  3281670855   \n",
       "\n",
       "        Bwd Init Win Bytes  Dst Port  Fwd Packet Length Min  Protocol  \\\n",
       "0                     1181      5228                      0         6   \n",
       "1                        0        53                     42        17   \n",
       "2                      980     48213                      0         6   \n",
       "3                        0        53                     37        17   \n",
       "4                        0     42857                      0         6   \n",
       "...                    ...       ...                    ...       ...   \n",
       "213312                 379      4852                      0         6   \n",
       "213313                   0        53                     32        17   \n",
       "213314               65535       443                      0         6   \n",
       "213315               65535       443                      0         6   \n",
       "213316               65535       443                      0         6   \n",
       "\n",
       "           Idle Mean  PSH Flag Count  Bwd Packets/s      Src IP  \\\n",
       "0       1.437770e+15               0       0.033292   177772555   \n",
       "1       0.000000e+00               0       8.642594   168298718   \n",
       "2       0.000000e+00               0   47619.047620  1796602589   \n",
       "3       0.000000e+00               0     532.197978   168296462   \n",
       "4       0.000000e+00               0       0.000000  3645881404   \n",
       "...              ...             ...            ...         ...   \n",
       "213312  0.000000e+00               0      25.928187  2211115158   \n",
       "213313  0.000000e+00               0     860.461083  2211115158   \n",
       "213314  1.456330e+15             550      10.388149   167772687   \n",
       "213315  1.456400e+15            1869      21.970592   167772687   \n",
       "213316  1.456340e+15             152      28.799564   167772687   \n",
       "\n",
       "        Bwd Packet Length Min      Idle Std  traffic nature  \n",
       "0                           0  3.678736e+07               0  \n",
       "1                         114  0.000000e+00               2  \n",
       "2                           0  0.000000e+00               0  \n",
       "3                         373  0.000000e+00               2  \n",
       "4                           0  0.000000e+00               0  \n",
       "...                       ...           ...             ...  \n",
       "213312                      0  0.000000e+00               3  \n",
       "213313                    184  0.000000e+00               3  \n",
       "213314                      0  2.087574e+07               3  \n",
       "213315                      0  3.114654e+07               3  \n",
       "213316                      0  5.964876e+05               3  \n",
       "\n",
       "[213317 rows x 14 columns]"
      ]
     },
     "execution_count": 77,
     "metadata": {},
     "output_type": "execute_result"
    }
   ],
   "source": [
    "newDF"
   ]
  },
  {
   "cell_type": "code",
   "execution_count": 78,
   "metadata": {},
   "outputs": [],
   "source": [
    "newDF.to_csv(\"selectedDarknet.csv\",index=False)"
   ]
  },
  {
   "cell_type": "code",
   "execution_count": null,
   "metadata": {},
   "outputs": [],
   "source": []
  }
 ],
 "metadata": {
  "kernelspec": {
   "display_name": "tensorflow",
   "language": "python",
   "name": "python3"
  },
  "language_info": {
   "codemirror_mode": {
    "name": "ipython",
    "version": 3
   },
   "file_extension": ".py",
   "mimetype": "text/x-python",
   "name": "python",
   "nbconvert_exporter": "python",
   "pygments_lexer": "ipython3",
   "version": "3.9.13"
  },
  "orig_nbformat": 4,
  "vscode": {
   "interpreter": {
    "hash": "137936febe64508a75f26b6146f6e1d8233329f1ee95ab18102956da2cf8120f"
   }
  }
 },
 "nbformat": 4,
 "nbformat_minor": 2
}
